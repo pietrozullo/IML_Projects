{
 "cells": [
  {
   "cell_type": "markdown",
   "metadata": {},
   "source": [
    "## Libraries import"
   ]
  },
  {
   "cell_type": "code",
   "execution_count": 14,
   "metadata": {},
   "outputs": [],
   "source": [
    "import pandas as pd \n",
    "import numpy as np \n",
    "from matplotlib import pyplot as plt \n",
    "import sklearn "
   ]
  },
  {
   "cell_type": "markdown",
   "metadata": {},
   "source": [
    "## Import data with pandas"
   ]
  },
  {
   "cell_type": "markdown",
   "metadata": {},
   "source": [
    "Import data from CSV"
   ]
  },
  {
   "cell_type": "code",
   "execution_count": 15,
   "metadata": {},
   "outputs": [],
   "source": [
    "training_inputs = pd.read_csv(\"train_features.csv\")\n",
    "training_labels = pd.read_csv(\"train_labels.csv\")\n",
    "test_features = pd.read_csv(\"test_features.csv\")"
   ]
  },
  {
   "cell_type": "markdown",
   "metadata": {},
   "source": [
    "Sort data according to the patient ID"
   ]
  },
  {
   "cell_type": "code",
   "execution_count": 16,
   "metadata": {
    "scrolled": true
   },
   "outputs": [],
   "source": [
    "training_inputs = training_inputs.sort_values(by=['pid'])\n",
    "training_labels = training_labels.sort_values(by=['pid'])\n",
    "test_features = test_features.sort_values(by = ['pid'])"
   ]
  },
  {
   "cell_type": "markdown",
   "metadata": {},
   "source": [
    "Create a single label set called _labels clean_"
   ]
  },
  {
   "cell_type": "code",
   "execution_count": 17,
   "metadata": {},
   "outputs": [],
   "source": [
    "BaseExcess = training_labels['LABEL_BaseExcess']\n",
    "Fibrinogen = training_labels['LABEL_Fibrinogen']\n",
    "AST = training_labels['LABEL_AST']\n",
    "Alkalinephos = training_labels['LABEL_Alkalinephos']\n",
    "Bilirubin_total = training_labels['LABEL_Bilirubin_total']\n",
    "Lactate = training_labels['LABEL_Lactate']\n",
    "TroponinI = training_labels['LABEL_TroponinI']\n",
    "SaO2 = training_labels['LABEL_SaO2']\n",
    "Bilirubin_direct = training_labels['LABEL_Bilirubin_direct']\n",
    "EtCO2 = training_labels['LABEL_EtCO2']\n",
    "labels_clean = np.array([BaseExcess,Fibrinogen,AST,Alkalinephos,Bilirubin_total,Lactate,TroponinI,SaO2,Bilirubin_direct,EtCO2])"
   ]
  },
  {
   "cell_type": "markdown",
   "metadata": {},
   "source": [
    "## Preprocessing of the features\n",
    "\n",
    "Replace NaN with zeros in both training and test features"
   ]
  },
  {
   "cell_type": "code",
   "execution_count": 18,
   "metadata": {},
   "outputs": [],
   "source": [
    "training_inputs = training_inputs.fillna(0)\n",
    "test_features = test_features.fillna(0)"
   ]
  },
  {
   "cell_type": "code",
   "execution_count": 19,
   "metadata": {},
   "outputs": [
    {
     "name": "stdout",
     "output_type": "stream",
     "text": [
      "31656\r"
     ]
    }
   ],
   "source": [
    "#-------We first perform some data imputation with a pre built class from Sklearn ------- \n",
    "#The data imputation has to be done for each single patient so that values don't get mixed up\n",
    "#To do this we use the following loop\n",
    "#Define an empty array \n",
    "inputs = training_inputs\n",
    "patients = inputs.loc[inputs['pid']==1].mean();\n",
    "#Since some patients id do not exist the range is conservative\n",
    "for i in range(np.max(inputs['pid'])-1):\n",
    "    #First of all we split the data for a single patient\n",
    "    patient = inputs.loc[inputs['pid']==i+2].mean()\n",
    "    print(i,end ='\\r')\n",
    "    #Some patient number are missing so we have to assert that the patient exists \n",
    "    if np.isnan(patient.mean()) :\n",
    "        pass\n",
    "    else: \n",
    "         patients = np.vstack((patients,patient))"
   ]
  },
  {
   "cell_type": "markdown",
   "metadata": {},
   "source": [
    "Repeat the same operation with the test features"
   ]
  },
  {
   "cell_type": "code",
   "execution_count": 20,
   "metadata": {},
   "outputs": [
    {
     "name": "stdout",
     "output_type": "stream",
     "text": [
      "31653\r"
     ]
    }
   ],
   "source": [
    "#We do the same for test features\n",
    "inputs = test_features\n",
    "test_patients = inputs.loc[inputs['pid']==0].mean();\n",
    "#Since some patients id do not exist the range is conservative\n",
    "for i in range(np.max(inputs['pid'])-1):\n",
    "    #First of all we split the data for a single patient\n",
    "    test_patient = inputs.loc[inputs['pid']==i+2].mean()\n",
    "    print(i,end ='\\r')\n",
    "    #Some patient number are missing so we have to assert that the patient exists \n",
    "    if np.isnan(test_patient.mean()) :\n",
    "        pass\n",
    "    else: \n",
    "         test_patients = np.vstack((test_patients,test_patient))"
   ]
  },
  {
   "cell_type": "markdown",
   "metadata": {},
   "source": [
    "Drop PID and Time columns"
   ]
  },
  {
   "cell_type": "code",
   "execution_count": 23,
   "metadata": {},
   "outputs": [],
   "source": [
    "test_patients = pd.DataFrame(test_patients).drop(columns=[0,1])\n",
    "patients = pd.DataFrame(patients).drop(columns=[0,1])"
   ]
  },
  {
   "cell_type": "markdown",
   "metadata": {},
   "source": [
    "# Subtask 1\n",
    "\n",
    "Now that the preprocessing is finished, we can start training our estimators. First, import the necessay libraries."
   ]
  },
  {
   "cell_type": "code",
   "execution_count": 25,
   "metadata": {},
   "outputs": [],
   "source": [
    "from sklearn.pipeline import make_pipeline\n",
    "from sklearn.preprocessing import StandardScaler\n",
    "from sklearn.svm import SVC\n",
    "from sklearn.metrics import roc_auc_score"
   ]
  },
  {
   "cell_type": "markdown",
   "metadata": {},
   "source": [
    "Standardize data, then train the SVM and generate the AUC score"
   ]
  },
  {
   "cell_type": "code",
   "execution_count": 26,
   "metadata": {},
   "outputs": [
    {
     "data": {
      "text/plain": [
       "0.884172735760971"
      ]
     },
     "execution_count": 26,
     "metadata": {},
     "output_type": "execute_result"
    }
   ],
   "source": [
    "clf = make_pipeline(StandardScaler(), SVC(kernel='rbf',probability=True))\n",
    "clf.fit(patients,labels_clean[1])\n",
    "roc_auc_score(labels_clean[1],clf.predict_proba(patients)[:,1])"
   ]
  },
  {
   "cell_type": "code",
   "execution_count": null,
   "metadata": {},
   "outputs": [],
   "source": []
  },
  {
   "cell_type": "code",
   "execution_count": null,
   "metadata": {},
   "outputs": [],
   "source": []
  },
  {
   "cell_type": "code",
   "execution_count": null,
   "metadata": {},
   "outputs": [],
   "source": []
  },
  {
   "cell_type": "code",
   "execution_count": 42,
   "metadata": {},
   "outputs": [
    {
     "name": "stdout",
     "output_type": "stream",
     "text": [
      "(18995,)\n",
      "(18995, 37)\n"
     ]
    },
    {
     "data": {
      "text/plain": [
       "Pipeline(steps=[('standardscaler', StandardScaler()),\n",
       "                ('svc', SVC(kernel='sigmoid', probability=True))])"
      ]
     },
     "execution_count": 42,
     "metadata": {},
     "output_type": "execute_result"
    }
   ],
   "source": [
    "print(labels_clean[0].shape)\n",
    "print(patients.shape)\n",
    "clf.fit(patients,labels_clean[0])"
   ]
  },
  {
   "cell_type": "code",
   "execution_count": 43,
   "metadata": {},
   "outputs": [
    {
     "name": "stdout",
     "output_type": "stream",
     "text": [
      "(151968, 37)\n"
     ]
    }
   ],
   "source": [
    "print(test_features.shape)\n",
    "predictions = clf.predict_proba(test_patients)"
   ]
  },
  {
   "cell_type": "markdown",
   "metadata": {},
   "source": [
    "Now we read the sample CSV and replace some columns of it with our predictions, then we run the evaluation code to see if we score well."
   ]
  },
  {
   "cell_type": "code",
   "execution_count": 53,
   "metadata": {},
   "outputs": [
    {
     "data": {
      "text/html": [
       "<div>\n",
       "<style scoped>\n",
       "    .dataframe tbody tr th:only-of-type {\n",
       "        vertical-align: middle;\n",
       "    }\n",
       "\n",
       "    .dataframe tbody tr th {\n",
       "        vertical-align: top;\n",
       "    }\n",
       "\n",
       "    .dataframe thead th {\n",
       "        text-align: right;\n",
       "    }\n",
       "</style>\n",
       "<table border=\"1\" class=\"dataframe\">\n",
       "  <thead>\n",
       "    <tr style=\"text-align: right;\">\n",
       "      <th></th>\n",
       "      <th>pid</th>\n",
       "      <th>LABEL_BaseExcess</th>\n",
       "      <th>LABEL_Fibrinogen</th>\n",
       "      <th>LABEL_AST</th>\n",
       "      <th>LABEL_Alkalinephos</th>\n",
       "      <th>LABEL_Bilirubin_total</th>\n",
       "      <th>LABEL_Lactate</th>\n",
       "      <th>LABEL_TroponinI</th>\n",
       "      <th>LABEL_SaO2</th>\n",
       "      <th>LABEL_Bilirubin_direct</th>\n",
       "      <th>LABEL_EtCO2</th>\n",
       "      <th>LABEL_Sepsis</th>\n",
       "      <th>LABEL_RRate</th>\n",
       "      <th>LABEL_ABPm</th>\n",
       "      <th>LABEL_SpO2</th>\n",
       "      <th>LABEL_Heartrate</th>\n",
       "    </tr>\n",
       "  </thead>\n",
       "  <tbody>\n",
       "    <tr>\n",
       "      <th>0</th>\n",
       "      <td>0</td>\n",
       "      <td>0.653985</td>\n",
       "      <td>0.341</td>\n",
       "      <td>0.597</td>\n",
       "      <td>0.651</td>\n",
       "      <td>0.557</td>\n",
       "      <td>0.745</td>\n",
       "      <td>0.224</td>\n",
       "      <td>0.363</td>\n",
       "      <td>0.506</td>\n",
       "      <td>0.643</td>\n",
       "      <td>0.162</td>\n",
       "      <td>18.796</td>\n",
       "      <td>82.511</td>\n",
       "      <td>96.947</td>\n",
       "      <td>84.12</td>\n",
       "    </tr>\n",
       "    <tr>\n",
       "      <th>1</th>\n",
       "      <td>10001</td>\n",
       "      <td>0.794163</td>\n",
       "      <td>0.320</td>\n",
       "      <td>0.451</td>\n",
       "      <td>0.152</td>\n",
       "      <td>0.001</td>\n",
       "      <td>0.525</td>\n",
       "      <td>0.276</td>\n",
       "      <td>0.327</td>\n",
       "      <td>0.316</td>\n",
       "      <td>0.656</td>\n",
       "      <td>0.486</td>\n",
       "      <td>18.796</td>\n",
       "      <td>82.511</td>\n",
       "      <td>96.947</td>\n",
       "      <td>84.12</td>\n",
       "    </tr>\n",
       "    <tr>\n",
       "      <th>2</th>\n",
       "      <td>10003</td>\n",
       "      <td>0.835339</td>\n",
       "      <td>0.211</td>\n",
       "      <td>0.348</td>\n",
       "      <td>0.153</td>\n",
       "      <td>0.859</td>\n",
       "      <td>0.446</td>\n",
       "      <td>0.406</td>\n",
       "      <td>0.607</td>\n",
       "      <td>0.757</td>\n",
       "      <td>0.290</td>\n",
       "      <td>0.451</td>\n",
       "      <td>18.796</td>\n",
       "      <td>82.511</td>\n",
       "      <td>96.947</td>\n",
       "      <td>84.12</td>\n",
       "    </tr>\n",
       "    <tr>\n",
       "      <th>3</th>\n",
       "      <td>10004</td>\n",
       "      <td>0.961179</td>\n",
       "      <td>0.312</td>\n",
       "      <td>0.733</td>\n",
       "      <td>0.129</td>\n",
       "      <td>0.356</td>\n",
       "      <td>0.367</td>\n",
       "      <td>0.931</td>\n",
       "      <td>0.715</td>\n",
       "      <td>0.434</td>\n",
       "      <td>0.005</td>\n",
       "      <td>0.785</td>\n",
       "      <td>18.796</td>\n",
       "      <td>82.511</td>\n",
       "      <td>96.947</td>\n",
       "      <td>84.12</td>\n",
       "    </tr>\n",
       "    <tr>\n",
       "      <th>4</th>\n",
       "      <td>10005</td>\n",
       "      <td>0.532992</td>\n",
       "      <td>0.746</td>\n",
       "      <td>0.587</td>\n",
       "      <td>0.743</td>\n",
       "      <td>0.248</td>\n",
       "      <td>0.330</td>\n",
       "      <td>0.071</td>\n",
       "      <td>0.291</td>\n",
       "      <td>0.399</td>\n",
       "      <td>0.217</td>\n",
       "      <td>0.040</td>\n",
       "      <td>18.796</td>\n",
       "      <td>82.511</td>\n",
       "      <td>96.947</td>\n",
       "      <td>84.12</td>\n",
       "    </tr>\n",
       "    <tr>\n",
       "      <th>...</th>\n",
       "      <td>...</td>\n",
       "      <td>...</td>\n",
       "      <td>...</td>\n",
       "      <td>...</td>\n",
       "      <td>...</td>\n",
       "      <td>...</td>\n",
       "      <td>...</td>\n",
       "      <td>...</td>\n",
       "      <td>...</td>\n",
       "      <td>...</td>\n",
       "      <td>...</td>\n",
       "      <td>...</td>\n",
       "      <td>...</td>\n",
       "      <td>...</td>\n",
       "      <td>...</td>\n",
       "      <td>...</td>\n",
       "    </tr>\n",
       "    <tr>\n",
       "      <th>12659</th>\n",
       "      <td>9989</td>\n",
       "      <td>0.857361</td>\n",
       "      <td>0.541</td>\n",
       "      <td>0.373</td>\n",
       "      <td>0.944</td>\n",
       "      <td>0.562</td>\n",
       "      <td>0.594</td>\n",
       "      <td>0.838</td>\n",
       "      <td>0.938</td>\n",
       "      <td>0.401</td>\n",
       "      <td>0.195</td>\n",
       "      <td>0.647</td>\n",
       "      <td>18.796</td>\n",
       "      <td>82.511</td>\n",
       "      <td>96.947</td>\n",
       "      <td>84.12</td>\n",
       "    </tr>\n",
       "    <tr>\n",
       "      <th>12660</th>\n",
       "      <td>9991</td>\n",
       "      <td>0.395515</td>\n",
       "      <td>0.040</td>\n",
       "      <td>0.095</td>\n",
       "      <td>0.667</td>\n",
       "      <td>0.918</td>\n",
       "      <td>0.323</td>\n",
       "      <td>0.784</td>\n",
       "      <td>0.343</td>\n",
       "      <td>0.552</td>\n",
       "      <td>0.047</td>\n",
       "      <td>0.916</td>\n",
       "      <td>18.796</td>\n",
       "      <td>82.511</td>\n",
       "      <td>96.947</td>\n",
       "      <td>84.12</td>\n",
       "    </tr>\n",
       "    <tr>\n",
       "      <th>12661</th>\n",
       "      <td>9992</td>\n",
       "      <td>0.379529</td>\n",
       "      <td>0.962</td>\n",
       "      <td>0.967</td>\n",
       "      <td>0.564</td>\n",
       "      <td>0.064</td>\n",
       "      <td>0.545</td>\n",
       "      <td>0.210</td>\n",
       "      <td>0.853</td>\n",
       "      <td>0.429</td>\n",
       "      <td>0.829</td>\n",
       "      <td>0.093</td>\n",
       "      <td>18.796</td>\n",
       "      <td>82.511</td>\n",
       "      <td>96.947</td>\n",
       "      <td>84.12</td>\n",
       "    </tr>\n",
       "    <tr>\n",
       "      <th>12662</th>\n",
       "      <td>9994</td>\n",
       "      <td>0.715282</td>\n",
       "      <td>0.540</td>\n",
       "      <td>0.868</td>\n",
       "      <td>0.201</td>\n",
       "      <td>0.259</td>\n",
       "      <td>0.632</td>\n",
       "      <td>0.282</td>\n",
       "      <td>0.810</td>\n",
       "      <td>0.724</td>\n",
       "      <td>0.074</td>\n",
       "      <td>0.936</td>\n",
       "      <td>18.796</td>\n",
       "      <td>82.511</td>\n",
       "      <td>96.947</td>\n",
       "      <td>84.12</td>\n",
       "    </tr>\n",
       "    <tr>\n",
       "      <th>12663</th>\n",
       "      <td>9997</td>\n",
       "      <td>0.825832</td>\n",
       "      <td>0.203</td>\n",
       "      <td>0.176</td>\n",
       "      <td>0.683</td>\n",
       "      <td>0.603</td>\n",
       "      <td>0.053</td>\n",
       "      <td>0.310</td>\n",
       "      <td>0.667</td>\n",
       "      <td>0.465</td>\n",
       "      <td>0.007</td>\n",
       "      <td>0.921</td>\n",
       "      <td>18.796</td>\n",
       "      <td>82.511</td>\n",
       "      <td>96.947</td>\n",
       "      <td>84.12</td>\n",
       "    </tr>\n",
       "  </tbody>\n",
       "</table>\n",
       "<p>12664 rows × 16 columns</p>\n",
       "</div>"
      ],
      "text/plain": [
       "         pid  LABEL_BaseExcess  LABEL_Fibrinogen  LABEL_AST  \\\n",
       "0          0          0.653985             0.341      0.597   \n",
       "1      10001          0.794163             0.320      0.451   \n",
       "2      10003          0.835339             0.211      0.348   \n",
       "3      10004          0.961179             0.312      0.733   \n",
       "4      10005          0.532992             0.746      0.587   \n",
       "...      ...               ...               ...        ...   \n",
       "12659   9989          0.857361             0.541      0.373   \n",
       "12660   9991          0.395515             0.040      0.095   \n",
       "12661   9992          0.379529             0.962      0.967   \n",
       "12662   9994          0.715282             0.540      0.868   \n",
       "12663   9997          0.825832             0.203      0.176   \n",
       "\n",
       "       LABEL_Alkalinephos  LABEL_Bilirubin_total  LABEL_Lactate  \\\n",
       "0                   0.651                  0.557          0.745   \n",
       "1                   0.152                  0.001          0.525   \n",
       "2                   0.153                  0.859          0.446   \n",
       "3                   0.129                  0.356          0.367   \n",
       "4                   0.743                  0.248          0.330   \n",
       "...                   ...                    ...            ...   \n",
       "12659               0.944                  0.562          0.594   \n",
       "12660               0.667                  0.918          0.323   \n",
       "12661               0.564                  0.064          0.545   \n",
       "12662               0.201                  0.259          0.632   \n",
       "12663               0.683                  0.603          0.053   \n",
       "\n",
       "       LABEL_TroponinI  LABEL_SaO2  LABEL_Bilirubin_direct  LABEL_EtCO2  \\\n",
       "0                0.224       0.363                   0.506        0.643   \n",
       "1                0.276       0.327                   0.316        0.656   \n",
       "2                0.406       0.607                   0.757        0.290   \n",
       "3                0.931       0.715                   0.434        0.005   \n",
       "4                0.071       0.291                   0.399        0.217   \n",
       "...                ...         ...                     ...          ...   \n",
       "12659            0.838       0.938                   0.401        0.195   \n",
       "12660            0.784       0.343                   0.552        0.047   \n",
       "12661            0.210       0.853                   0.429        0.829   \n",
       "12662            0.282       0.810                   0.724        0.074   \n",
       "12663            0.310       0.667                   0.465        0.007   \n",
       "\n",
       "       LABEL_Sepsis  LABEL_RRate  LABEL_ABPm  LABEL_SpO2  LABEL_Heartrate  \n",
       "0             0.162       18.796      82.511      96.947            84.12  \n",
       "1             0.486       18.796      82.511      96.947            84.12  \n",
       "2             0.451       18.796      82.511      96.947            84.12  \n",
       "3             0.785       18.796      82.511      96.947            84.12  \n",
       "4             0.040       18.796      82.511      96.947            84.12  \n",
       "...             ...          ...         ...         ...              ...  \n",
       "12659         0.647       18.796      82.511      96.947            84.12  \n",
       "12660         0.916       18.796      82.511      96.947            84.12  \n",
       "12661         0.093       18.796      82.511      96.947            84.12  \n",
       "12662         0.936       18.796      82.511      96.947            84.12  \n",
       "12663         0.921       18.796      82.511      96.947            84.12  \n",
       "\n",
       "[12664 rows x 16 columns]"
      ]
     },
     "execution_count": 53,
     "metadata": {},
     "output_type": "execute_result"
    }
   ],
   "source": [
    "oursample = pd.read_csv('sample.csv')\n",
    "oursample['LABEL_BaseExcess'] = predictions[:,0]\n",
    "oursample"
   ]
  },
  {
   "cell_type": "code",
   "execution_count": 62,
   "metadata": {},
   "outputs": [
    {
     "data": {
      "text/plain": [
       "(18995,)"
      ]
     },
     "execution_count": 62,
     "metadata": {},
     "output_type": "execute_result"
    }
   ],
   "source": []
  },
  {
   "cell_type": "code",
   "execution_count": 66,
   "metadata": {},
   "outputs": [
    {
     "data": {
      "text/plain": [
       "0.8867542727235821"
      ]
     },
     "execution_count": 66,
     "metadata": {},
     "output_type": "execute_result"
    }
   ],
   "source": []
  },
  {
   "cell_type": "code",
   "execution_count": null,
   "metadata": {},
   "outputs": [],
   "source": []
  },
  {
   "cell_type": "code",
   "execution_count": 57,
   "metadata": {},
   "outputs": [],
   "source": [
    "oursample.to_csv('prediction.zip', index=False, float_format='%.3f', compression='zip')\n",
    "oursample.to_csv('prediction.csv', index=False, float_format='%.3f')\n"
   ]
  }
 ],
 "metadata": {
  "kernelspec": {
   "display_name": "Python (task1)",
   "language": "python",
   "name": "task1"
  },
  "language_info": {
   "codemirror_mode": {
    "name": "ipython",
    "version": 3
   },
   "file_extension": ".py",
   "mimetype": "text/x-python",
   "name": "python",
   "nbconvert_exporter": "python",
   "pygments_lexer": "ipython3",
   "version": "3.7.9"
  }
 },
 "nbformat": 4,
 "nbformat_minor": 4
}
