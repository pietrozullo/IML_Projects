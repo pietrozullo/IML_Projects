{
 "cells": [
  {
   "cell_type": "code",
   "execution_count": 50,
   "metadata": {},
   "outputs": [],
   "source": [
    "import numpy as np \n",
    "import pandas as pd"
   ]
  },
  {
   "cell_type": "code",
   "execution_count": 77,
   "metadata": {},
   "outputs": [
    {
     "name": "stdout",
     "output_type": "stream",
     "text": [
      "(150, 13)\n"
     ]
    }
   ],
   "source": [
    "#Load the file\n",
    "training_data = pd.read_csv('./task1a_do4bq81me/train.csv')\n",
    "\n",
    "#Extract inputs and outputs from training dataframe\n",
    "X = training_data[['x1','x2','x3','x4','x5','x6','x7','x8','x9','x10','x11','x12','x13']].to_numpy()\n",
    "y= training_data['y'].to_numpy()\n",
    "print(X_train.shape)"
   ]
  },
  {
   "cell_type": "code",
   "execution_count": 123,
   "metadata": {},
   "outputs": [],
   "source": [
    "#Import the different lambda values\n",
    "lam = np.array([0.1,1,10,100,200])\n",
    "lam = np.array([0.1,1,0.2,0.3,.05])"
   ]
  },
  {
   "cell_type": "code",
   "execution_count": 85,
   "metadata": {},
   "outputs": [],
   "source": [
    "#Import scikitlearn Ridge class \n",
    "from sklearn.linear_model import Ridge\n",
    "from sklearn.model_selection import KFold\n",
    "from sklearn.metrics import mean_squared_error"
   ]
  },
  {
   "cell_type": "code",
   "execution_count": null,
   "metadata": {},
   "outputs": [],
   "source": []
  },
  {
   "cell_type": "code",
   "execution_count": 143,
   "metadata": {},
   "outputs": [
    {
     "name": "stdout",
     "output_type": "stream",
     "text": [
      "[[5.50180945]\n",
      " [5.49983874]\n",
      " [5.49794242]\n",
      " [5.49700162]\n",
      " [5.50621418]]\n"
     ]
    }
   ],
   "source": [
    "kf = KFold(n_splits=10)\n",
    "X_split = kf.get_n_splits(X)\n",
    "score = np.zeros([5,1])\n",
    "\n",
    "u = 0\n",
    "for i in lam: \n",
    "    RSE = np.zeros([10,1])\n",
    "    #print(i)\n",
    "    j = 0\n",
    "    for train_index, test_index in kf.split(X):\n",
    "        #print(\"TRAIN:\", train_index, \"\\nTEST:\", test_index)\n",
    "        \n",
    "        #Define the split train and test sets\n",
    "        X_train, X_test = X[train_index], X[test_index]\n",
    "        y_train, y_test = y[train_index], y[test_index]\n",
    "        \n",
    "        #Define a regression object \n",
    "        clf = Ridge(alpha=i)\n",
    "        #Fit the model\n",
    "        clf.fit(X_train,y_train)\n",
    "        #Predict using fitted model\n",
    "        y_predict = clf.predict(X_test)\n",
    "        #Compute for each K fold the Root Squared Error  \n",
    "        RSE[j] = mean_squared_error(y_test,y_predict,squared = False)\n",
    "        j += 1\n",
    "    #Average over Kfolds of the RSE    \n",
    "    MRSE = np.mean(RSE)\n",
    "    #print(MRSE)\n",
    "    #Save the score\n",
    "    score[u] = MRSE\n",
    "    u += 1\n",
    "print(score)"
   ]
  }
 ],
 "metadata": {
  "kernelspec": {
   "display_name": "Python 3",
   "language": "python",
   "name": "python3"
  },
  "language_info": {
   "codemirror_mode": {
    "name": "ipython",
    "version": 3
   },
   "file_extension": ".py",
   "mimetype": "text/x-python",
   "name": "python",
   "nbconvert_exporter": "python",
   "pygments_lexer": "ipython3",
   "version": "3.8.3"
  }
 },
 "nbformat": 4,
 "nbformat_minor": 4
}
