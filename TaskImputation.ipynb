{
 "cells": [
  {
   "cell_type": "markdown",
   "metadata": {},
   "source": [
    "## Libraries import"
   ]
  },
  {
   "cell_type": "code",
   "execution_count": 11,
   "metadata": {},
   "outputs": [],
   "source": [
    "import pandas as pd \n",
    "import numpy as np \n",
    "from matplotlib import pyplot as plt \n",
    "import sklearn "
   ]
  },
  {
   "cell_type": "markdown",
   "metadata": {},
   "source": [
    "## Import data with pandas"
   ]
  },
  {
   "cell_type": "markdown",
   "metadata": {},
   "source": [
    "Import data from CSV"
   ]
  },
  {
   "cell_type": "code",
   "execution_count": 35,
   "metadata": {},
   "outputs": [],
   "source": [
    "training_inputs = pd.read_csv('/Users/pietrozullo/Task2Files/train_features.csv')\n",
    "training_labels = pd.read_csv('/Users/pietrozullo/Task2Files/train_labels.csv')\n",
    "test_features = pd.read_csv('/Users/pietrozullo/Task2Files/test_features.csv')\n",
    "#training_inputs[22:50]"
   ]
  },
  {
   "cell_type": "markdown",
   "metadata": {},
   "source": [
    "Sort data according to the patient ID"
   ]
  },
  {
   "cell_type": "code",
   "execution_count": 36,
   "metadata": {
    "scrolled": true
   },
   "outputs": [],
   "source": [
    "training_inputs = training_inputs.sort_values(by=['pid','Time'])\n",
    "training_labels = training_labels.sort_values(by=['pid'])\n",
    "test_features = test_features.sort_values(by=['pid','Time'])"
   ]
  },
  {
   "cell_type": "markdown",
   "metadata": {},
   "source": [
    "Create a single label set called _labels clean_"
   ]
  },
  {
   "cell_type": "code",
   "execution_count": 15,
   "metadata": {},
   "outputs": [],
   "source": [
    "BaseExcess = training_labels['LABEL_BaseExcess']\n",
    "Fibrinogen = training_labels['LABEL_Fibrinogen']\n",
    "AST = training_labels['LABEL_AST']\n",
    "Alkalinephos = training_labels['LABEL_Alkalinephos']\n",
    "Bilirubin_total = training_labels['LABEL_Bilirubin_total']\n",
    "Lactate = training_labels['LABEL_Lactate']\n",
    "TroponinI = training_labels['LABEL_TroponinI']\n",
    "SaO2 = training_labels['LABEL_SaO2']\n",
    "Bilirubin_direct = training_labels['LABEL_Bilirubin_direct']\n",
    "EtCO2 = training_labels['LABEL_EtCO2']\n",
    "labels_clean = np.array([BaseExcess,Fibrinogen,AST,Alkalinephos,Bilirubin_total,Lactate,TroponinI,SaO2,Bilirubin_direct,EtCO2])"
   ]
  },
  {
   "cell_type": "markdown",
   "metadata": {},
   "source": [
    "## Preprocessing of the features"
   ]
  },
  {
   "cell_type": "markdown",
   "metadata": {},
   "source": [
    "##### First of all we perform what's called data imputation, both on the test and training features"
   ]
  },
  {
   "cell_type": "code",
   "execution_count": 46,
   "metadata": {},
   "outputs": [],
   "source": [
    "from sklearn.impute import SimpleImputer\n",
    "train_imputer = SimpleImputer(missing_values = np.nan,strategy = 'median')\n",
    "train_imputer.fit(training_inputs.iloc[:,2:])\n",
    "imputed_inputs = train_imputer.transform(training_inputs.iloc[:,2:])\n",
    "training_inputs.iloc[:,2:] = imputed_inputs\n",
    "#Imputing test features\n",
    "test_imputer = SimpleImputer(missing_values = np.nan,strategy = 'median')\n",
    "test_imputer.fit(test_features.iloc[:,2:])\n",
    "imputed_test_inputs = test_imputer.transform(test_features.iloc[:,2:])\n",
    "test_features.iloc[:,2:] = imputed_test_inputs"
   ]
  },
  {
   "cell_type": "markdown",
   "metadata": {},
   "source": [
    "##### New data imputation strategy, we simply subsitutute the NaN with zeros and use the whole time series to predict. \n",
    "##### Before fitting we need to normalize the time so that it goes from 0 to 12"
   ]
  },
  {
   "cell_type": "code",
   "execution_count": 48,
   "metadata": {},
   "outputs": [],
   "source": [
    "training_inputs.loc[training_inputs['pid'] == 1,'Time'] = training_inputs.loc[training_inputs['pid'] == 1]['Time'] - training_inputs.loc[training_inputs['pid'] == 1]['Time'].min()+1"
   ]
  },
  {
   "cell_type": "code",
   "execution_count": 49,
   "metadata": {},
   "outputs": [],
   "source": [
    "training_inputs.loc[training_inputs['pid'] == training_labels['pid'][0] ,['Time']]  = training_inputs.loc[training_inputs['pid'] == training_labels['pid'][0],['Time']] - training_inputs.loc[training_inputs['pid'] == training_labels['pid'][0]]['Time'].min()+1\n",
    "patients = np.array([training_inputs.loc[training_inputs['pid']==training_labels['pid'][0]]]).flatten()[1:]\n",
    "for pid in training_labels['pid'][1:]:\n",
    "    \"\"\"Get the start of the hospital stay and subtract the starting hour to the time interval, \n",
    "    #so that each time series starts from one and reaches 12\n",
    "    #Unfortunately it's a bit messy for speed purposes, you can check if it does work for you by printing the commented stuff\"\"\"\n",
    "    #print('PID',pid)\n",
    "    #print('before')\n",
    "    #print(training_inputs.loc[training_inputs['pid'] == pid,['Time']])\n",
    "    training_inputs.loc[training_inputs['pid'] == pid,['Time']]  = training_inputs.loc[training_inputs['pid'] == pid,['Time']] - training_inputs.loc[training_inputs['pid'] == pid]['Time'].min()+1\n",
    "    patient = np.array([training_inputs.loc[training_inputs['pid']==pid]]).flatten()[1:]\n",
    "    patients = np.vstack((patients,patient))\n",
    "    #print('Patient', patients.shape)\n",
    "    #print('after')\n",
    "    #print(training_inputs.loc[training_inputs['pid'] == pid,['Time']])"
   ]
  },
  {
   "cell_type": "code",
   "execution_count": 50,
   "metadata": {},
   "outputs": [],
   "source": [
    "test_features.loc[test_features['pid'] == pd.unique(test_features['pid'])[0] ,['Time']]  = test_features.loc[test_features['pid'] == pd.unique(test_features['pid'])[0],['Time']] - test_features.loc[test_features['pid'] == pd.unique(test_features['pid'])[0],['Time']].min()+1\n",
    "test_patients = np.array([test_features.loc[test_features['pid']== pd.unique(test_features['pid'])[0]]]).flatten()[1:]\n",
    "for pid in pd.unique(test_features['pid'])[1:]:\n",
    "    \"\"\"Get the start of the hospital stay and subtract the starting hour to the time interval, \n",
    "    #so that each time series starts from one and reaches 12\n",
    "    #Unfortunately it's a bit messy for speed purposes, you can check if it does work for you by printing the commented stuff\"\"\"\n",
    "    #print('PID',pid)\n",
    "    #print('before')\n",
    "    #print(training_inputs.loc[training_inputs['pid'] == pid,['Time']])\n",
    "    test_features.loc[test_features['pid'] == pid,['Time']]  = test_features.loc[test_features['pid'] == pid,['Time']] - test_features.loc[test_features['pid'] == pid]['Time'].min()+1\n",
    "    test_patient = np.array([test_features.loc[test_features['pid']==pid]]).flatten()[1:]\n",
    "    test_patients = np.vstack((test_patients,test_patient))\n",
    "    #print('Patient', test_patients.shape)\n",
    "    #print('after')\n",
    "    #print(training_inputs.loc[training_inputs['pid'] == pid,['Time']])"
   ]
  },
  {
   "cell_type": "markdown",
   "metadata": {},
   "source": [
    "# Subtask 1\n",
    "\n",
    "Now that the preprocessing is finished, we can start training our estimators. First, import the necessay libraries."
   ]
  },
  {
   "cell_type": "code",
   "execution_count": 51,
   "metadata": {},
   "outputs": [],
   "source": [
    "from sklearn.pipeline import make_pipeline\n",
    "from sklearn.preprocessing import StandardScaler\n",
    "from sklearn.svm import SVC\n",
    "from sklearn.metrics import roc_auc_score"
   ]
  },
  {
   "cell_type": "markdown",
   "metadata": {},
   "source": [
    "Generate the model"
   ]
  },
  {
   "cell_type": "code",
   "execution_count": 52,
   "metadata": {},
   "outputs": [],
   "source": [
    "clf = make_pipeline(StandardScaler(), SVC(kernel='rbf',probability=True, class_weight='balanced'))"
   ]
  },
  {
   "cell_type": "markdown",
   "metadata": {},
   "source": [
    "Generate the vector containing all the labels we want to predict"
   ]
  },
  {
   "cell_type": "code",
   "execution_count": 53,
   "metadata": {},
   "outputs": [],
   "source": [
    "labels_to_predict = np.array(['BaseExcess','Fibrinogen','AST','Alkalinephos','Bilirubin_total','Lactate','TroponinI','SaO2','Bilirubin_direct','EtCO2'])"
   ]
  },
  {
   "cell_type": "markdown",
   "metadata": {},
   "source": [
    "Make the first prediction and initialize the vector that will contains all the predictions, initialize the vector containing the scores"
   ]
  },
  {
   "cell_type": "code",
   "execution_count": 54,
   "metadata": {},
   "outputs": [],
   "source": [
    "clf.fit(patients,labels_clean[0])\n",
    "probability = clf.predict_proba(test_patients)[:,1]\n",
    "\n",
    "task1_predictions = probability"
   ]
  },
  {
   "cell_type": "markdown",
   "metadata": {},
   "source": [
    "Standardize data, then train the SVM and generate the AUC score, repeat this for all labels and store the predictions in the prediction vector"
   ]
  },
  {
   "cell_type": "code",
   "execution_count": 55,
   "metadata": {},
   "outputs": [
    {
     "name": "stdout",
     "output_type": "stream",
     "text": [
      "Done 10 labels out of 10\r"
     ]
    }
   ],
   "source": [
    "for i in range(labels_to_predict.shape[0]-1):\n",
    "    clf.fit(patients,labels_clean[i+1])\n",
    "    probability = clf.predict_proba(test_patients)[:,1]\n",
    "    task1_predictions = np.vstack([task1_predictions,probability])\n",
    "    print('Done ' + str(i+2) + ' labels out of ' + str(labels_to_predict.shape[0]), end ='\\r')"
   ]
  },
  {
   "cell_type": "markdown",
   "metadata": {},
   "source": [
    "## Subtask 2\n",
    "\n",
    "Now we predict the occurrence of sepsis. First, create the vector containing the true labels."
   ]
  },
  {
   "cell_type": "code",
   "execution_count": 56,
   "metadata": {},
   "outputs": [],
   "source": [
    "label_sepsis = training_labels['LABEL_Sepsis']"
   ]
  },
  {
   "cell_type": "markdown",
   "metadata": {},
   "source": [
    "Next, fit the model and add an entry to the prediction matrix"
   ]
  },
  {
   "cell_type": "code",
   "execution_count": 57,
   "metadata": {},
   "outputs": [],
   "source": [
    "clf.fit(patients,label_sepsis)\n",
    "task2_predictions = clf.predict_proba(test_patients)[:,1]"
   ]
  },
  {
   "cell_type": "markdown",
   "metadata": {},
   "source": [
    "## Subtask 3\n",
    "\n",
    "We now want to predict the mean value of the vital sign in the remaining stay. First, let us create the model."
   ]
  },
  {
   "cell_type": "code",
   "execution_count": 58,
   "metadata": {},
   "outputs": [],
   "source": [
    "from sklearn.kernel_ridge import KernelRidge\n",
    "from sklearn.metrics import mean_squared_error"
   ]
  },
  {
   "cell_type": "markdown",
   "metadata": {},
   "source": [
    "Create feature vector and label vector"
   ]
  },
  {
   "cell_type": "code",
   "execution_count": 59,
   "metadata": {},
   "outputs": [],
   "source": [
    "labs = training_labels.columns\n",
    "Y = training_labels[labs[12:16]]"
   ]
  },
  {
   "cell_type": "markdown",
   "metadata": {},
   "source": [
    "Create the model and fit"
   ]
  },
  {
   "cell_type": "code",
   "execution_count": 60,
   "metadata": {},
   "outputs": [
    {
     "data": {
      "text/plain": [
       "KernelRidge(alpha=0, kernel='rbf')"
      ]
     },
     "execution_count": 60,
     "metadata": {},
     "output_type": "execute_result"
    }
   ],
   "source": [
    "clf3 = KernelRidge(alpha=0,kernel = 'rbf')\n",
    "#Fit the model\n",
    "clf3.fit(patients,Y)"
   ]
  },
  {
   "cell_type": "markdown",
   "metadata": {},
   "source": [
    "Compute predictions"
   ]
  },
  {
   "cell_type": "code",
   "execution_count": 61,
   "metadata": {},
   "outputs": [],
   "source": [
    "task3_predictions = clf3.predict(test_patients)"
   ]
  },
  {
   "cell_type": "markdown",
   "metadata": {},
   "source": [
    "## Export data to csv"
   ]
  },
  {
   "cell_type": "markdown",
   "metadata": {},
   "source": [
    "Create full prediction matrix"
   ]
  },
  {
   "cell_type": "code",
   "execution_count": 62,
   "metadata": {},
   "outputs": [],
   "source": [
    "task1_trans = np.transpose(task1_predictions)"
   ]
  },
  {
   "cell_type": "code",
   "execution_count": 63,
   "metadata": {},
   "outputs": [
    {
     "data": {
      "text/plain": [
       "Index(['pid', 'LABEL_BaseExcess', 'LABEL_Fibrinogen', 'LABEL_AST',\n",
       "       'LABEL_Alkalinephos', 'LABEL_Bilirubin_total', 'LABEL_Lactate',\n",
       "       'LABEL_TroponinI', 'LABEL_SaO2', 'LABEL_Bilirubin_direct',\n",
       "       'LABEL_EtCO2', 'LABEL_Sepsis', 'LABEL_RRate', 'LABEL_ABPm',\n",
       "       'LABEL_SpO2', 'LABEL_Heartrate'],\n",
       "      dtype='object')"
      ]
     },
     "execution_count": 63,
     "metadata": {},
     "output_type": "execute_result"
    }
   ],
   "source": [
    "oursample = pd.read_csv('./task2_k49am2lqi/sample.csv')\n",
    "oursample.columns"
   ]
  },
  {
   "cell_type": "code",
   "execution_count": 64,
   "metadata": {},
   "outputs": [],
   "source": [
    "\n",
    "\n",
    "oursample[['LABEL_BaseExcess', 'LABEL_Fibrinogen', 'LABEL_AST','LABEL_Alkalinephos', 'LABEL_Bilirubin_total', 'LABEL_Lactate','LABEL_TroponinI', 'LABEL_SaO2', 'LABEL_Bilirubin_direct','LABEL_EtCO2']]= task1_trans[:,0:10]\n",
    "\n",
    "\n"
   ]
  },
  {
   "cell_type": "code",
   "execution_count": 65,
   "metadata": {},
   "outputs": [],
   "source": [
    "oursample['LABEL_Sepsis'] = task2_predictions[:]"
   ]
  },
  {
   "cell_type": "code",
   "execution_count": 66,
   "metadata": {},
   "outputs": [],
   "source": [
    "oursample[['LABEL_RRate', 'LABEL_ABPm', 'LABEL_SpO2', 'LABEL_Heartrate']] = task3_predictions[:,0:4]"
   ]
  },
  {
   "cell_type": "code",
   "execution_count": 67,
   "metadata": {},
   "outputs": [],
   "source": [
    "oursample.to_csv('prediction.zip', index=False, float_format='%.3f', compression='zip')\n",
    "oursample.to_csv('prediction.csv', index=False, float_format='%.3f')"
   ]
  },
  {
   "cell_type": "code",
   "execution_count": 68,
   "metadata": {},
   "outputs": [
    {
     "data": {
      "text/html": [
       "<div>\n",
       "<style scoped>\n",
       "    .dataframe tbody tr th:only-of-type {\n",
       "        vertical-align: middle;\n",
       "    }\n",
       "\n",
       "    .dataframe tbody tr th {\n",
       "        vertical-align: top;\n",
       "    }\n",
       "\n",
       "    .dataframe thead th {\n",
       "        text-align: right;\n",
       "    }\n",
       "</style>\n",
       "<table border=\"1\" class=\"dataframe\">\n",
       "  <thead>\n",
       "    <tr style=\"text-align: right;\">\n",
       "      <th></th>\n",
       "      <th>pid</th>\n",
       "      <th>LABEL_BaseExcess</th>\n",
       "      <th>LABEL_Fibrinogen</th>\n",
       "      <th>LABEL_AST</th>\n",
       "      <th>LABEL_Alkalinephos</th>\n",
       "      <th>LABEL_Bilirubin_total</th>\n",
       "      <th>LABEL_Lactate</th>\n",
       "      <th>LABEL_TroponinI</th>\n",
       "      <th>LABEL_SaO2</th>\n",
       "      <th>LABEL_Bilirubin_direct</th>\n",
       "      <th>LABEL_EtCO2</th>\n",
       "      <th>LABEL_Sepsis</th>\n",
       "      <th>LABEL_RRate</th>\n",
       "      <th>LABEL_ABPm</th>\n",
       "      <th>LABEL_SpO2</th>\n",
       "      <th>LABEL_Heartrate</th>\n",
       "    </tr>\n",
       "  </thead>\n",
       "  <tbody>\n",
       "    <tr>\n",
       "      <th>0</th>\n",
       "      <td>0</td>\n",
       "      <td>0.478431</td>\n",
       "      <td>0.115091</td>\n",
       "      <td>0.349060</td>\n",
       "      <td>0.350369</td>\n",
       "      <td>0.354635</td>\n",
       "      <td>0.411764</td>\n",
       "      <td>0.058742</td>\n",
       "      <td>0.371724</td>\n",
       "      <td>0.038399</td>\n",
       "      <td>0.055780</td>\n",
       "      <td>0.061053</td>\n",
       "      <td>2.161551e-49</td>\n",
       "      <td>1.042070e-48</td>\n",
       "      <td>1.125164e-48</td>\n",
       "      <td>9.865206e-49</td>\n",
       "    </tr>\n",
       "    <tr>\n",
       "      <th>1</th>\n",
       "      <td>10001</td>\n",
       "      <td>0.046816</td>\n",
       "      <td>0.039031</td>\n",
       "      <td>0.284682</td>\n",
       "      <td>0.293838</td>\n",
       "      <td>0.296724</td>\n",
       "      <td>0.076350</td>\n",
       "      <td>0.422649</td>\n",
       "      <td>0.073226</td>\n",
       "      <td>0.018610</td>\n",
       "      <td>0.037959</td>\n",
       "      <td>0.070951</td>\n",
       "      <td>2.183744e-25</td>\n",
       "      <td>8.594842e-25</td>\n",
       "      <td>1.132744e-24</td>\n",
       "      <td>1.096543e-24</td>\n",
       "    </tr>\n",
       "    <tr>\n",
       "      <th>2</th>\n",
       "      <td>10003</td>\n",
       "      <td>0.063836</td>\n",
       "      <td>0.051096</td>\n",
       "      <td>0.202339</td>\n",
       "      <td>0.198331</td>\n",
       "      <td>0.190575</td>\n",
       "      <td>0.076626</td>\n",
       "      <td>0.157968</td>\n",
       "      <td>0.126015</td>\n",
       "      <td>0.029593</td>\n",
       "      <td>0.044051</td>\n",
       "      <td>0.055294</td>\n",
       "      <td>1.573651e-16</td>\n",
       "      <td>6.197991e-16</td>\n",
       "      <td>8.321713e-16</td>\n",
       "      <td>6.504655e-16</td>\n",
       "    </tr>\n",
       "    <tr>\n",
       "      <th>3</th>\n",
       "      <td>10004</td>\n",
       "      <td>0.483899</td>\n",
       "      <td>0.124799</td>\n",
       "      <td>0.358640</td>\n",
       "      <td>0.360644</td>\n",
       "      <td>0.364882</td>\n",
       "      <td>0.421820</td>\n",
       "      <td>0.058602</td>\n",
       "      <td>0.378467</td>\n",
       "      <td>0.038906</td>\n",
       "      <td>0.054948</td>\n",
       "      <td>0.061157</td>\n",
       "      <td>0.000000e+00</td>\n",
       "      <td>0.000000e+00</td>\n",
       "      <td>0.000000e+00</td>\n",
       "      <td>0.000000e+00</td>\n",
       "    </tr>\n",
       "    <tr>\n",
       "      <th>4</th>\n",
       "      <td>10005</td>\n",
       "      <td>0.095706</td>\n",
       "      <td>0.046530</td>\n",
       "      <td>0.380774</td>\n",
       "      <td>0.371333</td>\n",
       "      <td>0.360987</td>\n",
       "      <td>0.103534</td>\n",
       "      <td>0.094818</td>\n",
       "      <td>0.136448</td>\n",
       "      <td>0.021987</td>\n",
       "      <td>0.029626</td>\n",
       "      <td>0.070836</td>\n",
       "      <td>1.524797e-20</td>\n",
       "      <td>5.919295e-20</td>\n",
       "      <td>8.163658e-20</td>\n",
       "      <td>6.339042e-20</td>\n",
       "    </tr>\n",
       "    <tr>\n",
       "      <th>...</th>\n",
       "      <td>...</td>\n",
       "      <td>...</td>\n",
       "      <td>...</td>\n",
       "      <td>...</td>\n",
       "      <td>...</td>\n",
       "      <td>...</td>\n",
       "      <td>...</td>\n",
       "      <td>...</td>\n",
       "      <td>...</td>\n",
       "      <td>...</td>\n",
       "      <td>...</td>\n",
       "      <td>...</td>\n",
       "      <td>...</td>\n",
       "      <td>...</td>\n",
       "      <td>...</td>\n",
       "      <td>...</td>\n",
       "    </tr>\n",
       "    <tr>\n",
       "      <th>12659</th>\n",
       "      <td>9989</td>\n",
       "      <td>0.076340</td>\n",
       "      <td>0.037058</td>\n",
       "      <td>0.211565</td>\n",
       "      <td>0.206287</td>\n",
       "      <td>0.203850</td>\n",
       "      <td>0.059361</td>\n",
       "      <td>0.031035</td>\n",
       "      <td>0.061981</td>\n",
       "      <td>0.052732</td>\n",
       "      <td>0.017675</td>\n",
       "      <td>0.046822</td>\n",
       "      <td>4.542293e-19</td>\n",
       "      <td>2.372573e-18</td>\n",
       "      <td>2.825432e-18</td>\n",
       "      <td>2.396216e-18</td>\n",
       "    </tr>\n",
       "    <tr>\n",
       "      <th>12660</th>\n",
       "      <td>9991</td>\n",
       "      <td>0.724852</td>\n",
       "      <td>0.059975</td>\n",
       "      <td>0.147831</td>\n",
       "      <td>0.146320</td>\n",
       "      <td>0.133132</td>\n",
       "      <td>0.530989</td>\n",
       "      <td>0.064196</td>\n",
       "      <td>0.594415</td>\n",
       "      <td>0.026707</td>\n",
       "      <td>0.039624</td>\n",
       "      <td>0.059365</td>\n",
       "      <td>6.826114e-107</td>\n",
       "      <td>2.041900e-106</td>\n",
       "      <td>2.878575e-106</td>\n",
       "      <td>2.630749e-106</td>\n",
       "    </tr>\n",
       "    <tr>\n",
       "      <th>12661</th>\n",
       "      <td>9992</td>\n",
       "      <td>0.729424</td>\n",
       "      <td>0.060394</td>\n",
       "      <td>0.145543</td>\n",
       "      <td>0.149813</td>\n",
       "      <td>0.158279</td>\n",
       "      <td>0.264093</td>\n",
       "      <td>0.041292</td>\n",
       "      <td>0.520162</td>\n",
       "      <td>0.029704</td>\n",
       "      <td>0.033695</td>\n",
       "      <td>0.070080</td>\n",
       "      <td>5.412409e-20</td>\n",
       "      <td>2.204931e-19</td>\n",
       "      <td>3.001509e-19</td>\n",
       "      <td>1.947056e-19</td>\n",
       "    </tr>\n",
       "    <tr>\n",
       "      <th>12662</th>\n",
       "      <td>9994</td>\n",
       "      <td>0.090280</td>\n",
       "      <td>0.015265</td>\n",
       "      <td>0.474013</td>\n",
       "      <td>0.456428</td>\n",
       "      <td>0.451454</td>\n",
       "      <td>0.143435</td>\n",
       "      <td>0.124654</td>\n",
       "      <td>0.242272</td>\n",
       "      <td>0.047376</td>\n",
       "      <td>0.050167</td>\n",
       "      <td>0.081459</td>\n",
       "      <td>4.502154e-49</td>\n",
       "      <td>2.476185e-48</td>\n",
       "      <td>2.541623e-48</td>\n",
       "      <td>2.083555e-48</td>\n",
       "    </tr>\n",
       "    <tr>\n",
       "      <th>12663</th>\n",
       "      <td>9997</td>\n",
       "      <td>0.082638</td>\n",
       "      <td>0.045904</td>\n",
       "      <td>0.403859</td>\n",
       "      <td>0.425383</td>\n",
       "      <td>0.411226</td>\n",
       "      <td>0.065930</td>\n",
       "      <td>0.077722</td>\n",
       "      <td>0.123356</td>\n",
       "      <td>0.053503</td>\n",
       "      <td>0.087802</td>\n",
       "      <td>0.031012</td>\n",
       "      <td>3.027298e-28</td>\n",
       "      <td>1.274817e-27</td>\n",
       "      <td>1.489312e-27</td>\n",
       "      <td>1.299153e-27</td>\n",
       "    </tr>\n",
       "  </tbody>\n",
       "</table>\n",
       "<p>12664 rows × 16 columns</p>\n",
       "</div>"
      ],
      "text/plain": [
       "         pid  LABEL_BaseExcess  LABEL_Fibrinogen  LABEL_AST  \\\n",
       "0          0          0.478431          0.115091   0.349060   \n",
       "1      10001          0.046816          0.039031   0.284682   \n",
       "2      10003          0.063836          0.051096   0.202339   \n",
       "3      10004          0.483899          0.124799   0.358640   \n",
       "4      10005          0.095706          0.046530   0.380774   \n",
       "...      ...               ...               ...        ...   \n",
       "12659   9989          0.076340          0.037058   0.211565   \n",
       "12660   9991          0.724852          0.059975   0.147831   \n",
       "12661   9992          0.729424          0.060394   0.145543   \n",
       "12662   9994          0.090280          0.015265   0.474013   \n",
       "12663   9997          0.082638          0.045904   0.403859   \n",
       "\n",
       "       LABEL_Alkalinephos  LABEL_Bilirubin_total  LABEL_Lactate  \\\n",
       "0                0.350369               0.354635       0.411764   \n",
       "1                0.293838               0.296724       0.076350   \n",
       "2                0.198331               0.190575       0.076626   \n",
       "3                0.360644               0.364882       0.421820   \n",
       "4                0.371333               0.360987       0.103534   \n",
       "...                   ...                    ...            ...   \n",
       "12659            0.206287               0.203850       0.059361   \n",
       "12660            0.146320               0.133132       0.530989   \n",
       "12661            0.149813               0.158279       0.264093   \n",
       "12662            0.456428               0.451454       0.143435   \n",
       "12663            0.425383               0.411226       0.065930   \n",
       "\n",
       "       LABEL_TroponinI  LABEL_SaO2  LABEL_Bilirubin_direct  LABEL_EtCO2  \\\n",
       "0             0.058742    0.371724                0.038399     0.055780   \n",
       "1             0.422649    0.073226                0.018610     0.037959   \n",
       "2             0.157968    0.126015                0.029593     0.044051   \n",
       "3             0.058602    0.378467                0.038906     0.054948   \n",
       "4             0.094818    0.136448                0.021987     0.029626   \n",
       "...                ...         ...                     ...          ...   \n",
       "12659         0.031035    0.061981                0.052732     0.017675   \n",
       "12660         0.064196    0.594415                0.026707     0.039624   \n",
       "12661         0.041292    0.520162                0.029704     0.033695   \n",
       "12662         0.124654    0.242272                0.047376     0.050167   \n",
       "12663         0.077722    0.123356                0.053503     0.087802   \n",
       "\n",
       "       LABEL_Sepsis    LABEL_RRate     LABEL_ABPm     LABEL_SpO2  \\\n",
       "0          0.061053   2.161551e-49   1.042070e-48   1.125164e-48   \n",
       "1          0.070951   2.183744e-25   8.594842e-25   1.132744e-24   \n",
       "2          0.055294   1.573651e-16   6.197991e-16   8.321713e-16   \n",
       "3          0.061157   0.000000e+00   0.000000e+00   0.000000e+00   \n",
       "4          0.070836   1.524797e-20   5.919295e-20   8.163658e-20   \n",
       "...             ...            ...            ...            ...   \n",
       "12659      0.046822   4.542293e-19   2.372573e-18   2.825432e-18   \n",
       "12660      0.059365  6.826114e-107  2.041900e-106  2.878575e-106   \n",
       "12661      0.070080   5.412409e-20   2.204931e-19   3.001509e-19   \n",
       "12662      0.081459   4.502154e-49   2.476185e-48   2.541623e-48   \n",
       "12663      0.031012   3.027298e-28   1.274817e-27   1.489312e-27   \n",
       "\n",
       "       LABEL_Heartrate  \n",
       "0         9.865206e-49  \n",
       "1         1.096543e-24  \n",
       "2         6.504655e-16  \n",
       "3         0.000000e+00  \n",
       "4         6.339042e-20  \n",
       "...                ...  \n",
       "12659     2.396216e-18  \n",
       "12660    2.630749e-106  \n",
       "12661     1.947056e-19  \n",
       "12662     2.083555e-48  \n",
       "12663     1.299153e-27  \n",
       "\n",
       "[12664 rows x 16 columns]"
      ]
     },
     "execution_count": 68,
     "metadata": {},
     "output_type": "execute_result"
    }
   ],
   "source": [
    "oursample"
   ]
  }
 ],
 "metadata": {
  "kernelspec": {
   "display_name": "Python 3",
   "language": "python",
   "name": "python3"
  },
  "language_info": {
   "codemirror_mode": {
    "name": "ipython",
    "version": 3
   },
   "file_extension": ".py",
   "mimetype": "text/x-python",
   "name": "python",
   "nbconvert_exporter": "python",
   "pygments_lexer": "ipython3",
   "version": "3.8.3"
  }
 },
 "nbformat": 4,
 "nbformat_minor": 4
}
